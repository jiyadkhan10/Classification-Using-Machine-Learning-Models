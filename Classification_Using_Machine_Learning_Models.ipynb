{
 "cells": [
  {
   "cell_type": "code",
   "execution_count": 1,
   "id": "43d12efd",
   "metadata": {},
   "outputs": [],
   "source": [
    "import pandas as pd\n",
    "import numpy as np\n",
    "import matplotlib.pyplot as plt"
   ]
  },
  {
   "cell_type": "markdown",
   "id": "4d4fcdc8",
   "metadata": {},
   "source": [
    "# Read The Data"
   ]
  },
  {
   "cell_type": "code",
   "execution_count": 2,
   "id": "501d3ae4",
   "metadata": {},
   "outputs": [],
   "source": [
    "features =  [\"Age\", \"Workclass\", \"fnlwgt\", \"Education\", \"Education-Num\", \"MartialStatus\", \"Occupation\", \"Relationship\", \"Race\", \"Sex\", \"CapitalGain\", \"CapitalLoss\", \"Hoursperweek\", \"Country\", \"Target\"]"
   ]
  },
  {
   "cell_type": "code",
   "execution_count": 3,
   "id": "6121e196",
   "metadata": {},
   "outputs": [
    {
     "data": {
      "text/html": [
       "<div>\n",
       "<style scoped>\n",
       "    .dataframe tbody tr th:only-of-type {\n",
       "        vertical-align: middle;\n",
       "    }\n",
       "\n",
       "    .dataframe tbody tr th {\n",
       "        vertical-align: top;\n",
       "    }\n",
       "\n",
       "    .dataframe thead th {\n",
       "        text-align: right;\n",
       "    }\n",
       "</style>\n",
       "<table border=\"1\" class=\"dataframe\">\n",
       "  <thead>\n",
       "    <tr style=\"text-align: right;\">\n",
       "      <th></th>\n",
       "      <th>Age</th>\n",
       "      <th>Workclass</th>\n",
       "      <th>fnlwgt</th>\n",
       "      <th>Education</th>\n",
       "      <th>Education-Num</th>\n",
       "      <th>MartialStatus</th>\n",
       "      <th>Occupation</th>\n",
       "      <th>Relationship</th>\n",
       "      <th>Race</th>\n",
       "      <th>Sex</th>\n",
       "      <th>CapitalGain</th>\n",
       "      <th>CapitalLoss</th>\n",
       "      <th>Hoursperweek</th>\n",
       "      <th>Country</th>\n",
       "      <th>Target</th>\n",
       "    </tr>\n",
       "  </thead>\n",
       "  <tbody>\n",
       "    <tr>\n",
       "      <th>0</th>\n",
       "      <td>39</td>\n",
       "      <td>State-gov</td>\n",
       "      <td>77516</td>\n",
       "      <td>Bachelors</td>\n",
       "      <td>13</td>\n",
       "      <td>Never-married</td>\n",
       "      <td>Adm-clerical</td>\n",
       "      <td>Not-in-family</td>\n",
       "      <td>White</td>\n",
       "      <td>Male</td>\n",
       "      <td>2174</td>\n",
       "      <td>0</td>\n",
       "      <td>40</td>\n",
       "      <td>United-States</td>\n",
       "      <td>&lt;=50K</td>\n",
       "    </tr>\n",
       "    <tr>\n",
       "      <th>1</th>\n",
       "      <td>50</td>\n",
       "      <td>Self-emp-not-inc</td>\n",
       "      <td>83311</td>\n",
       "      <td>Bachelors</td>\n",
       "      <td>13</td>\n",
       "      <td>Married-civ-spouse</td>\n",
       "      <td>Exec-managerial</td>\n",
       "      <td>Husband</td>\n",
       "      <td>White</td>\n",
       "      <td>Male</td>\n",
       "      <td>0</td>\n",
       "      <td>0</td>\n",
       "      <td>13</td>\n",
       "      <td>United-States</td>\n",
       "      <td>&lt;=50K</td>\n",
       "    </tr>\n",
       "    <tr>\n",
       "      <th>2</th>\n",
       "      <td>38</td>\n",
       "      <td>Private</td>\n",
       "      <td>215646</td>\n",
       "      <td>HS-grad</td>\n",
       "      <td>9</td>\n",
       "      <td>Divorced</td>\n",
       "      <td>Handlers-cleaners</td>\n",
       "      <td>Not-in-family</td>\n",
       "      <td>White</td>\n",
       "      <td>Male</td>\n",
       "      <td>0</td>\n",
       "      <td>0</td>\n",
       "      <td>40</td>\n",
       "      <td>United-States</td>\n",
       "      <td>&lt;=50K</td>\n",
       "    </tr>\n",
       "    <tr>\n",
       "      <th>3</th>\n",
       "      <td>53</td>\n",
       "      <td>Private</td>\n",
       "      <td>234721</td>\n",
       "      <td>11th</td>\n",
       "      <td>7</td>\n",
       "      <td>Married-civ-spouse</td>\n",
       "      <td>Handlers-cleaners</td>\n",
       "      <td>Husband</td>\n",
       "      <td>Black</td>\n",
       "      <td>Male</td>\n",
       "      <td>0</td>\n",
       "      <td>0</td>\n",
       "      <td>40</td>\n",
       "      <td>United-States</td>\n",
       "      <td>&lt;=50K</td>\n",
       "    </tr>\n",
       "    <tr>\n",
       "      <th>4</th>\n",
       "      <td>28</td>\n",
       "      <td>Private</td>\n",
       "      <td>338409</td>\n",
       "      <td>Bachelors</td>\n",
       "      <td>13</td>\n",
       "      <td>Married-civ-spouse</td>\n",
       "      <td>Prof-specialty</td>\n",
       "      <td>Wife</td>\n",
       "      <td>Black</td>\n",
       "      <td>Female</td>\n",
       "      <td>0</td>\n",
       "      <td>0</td>\n",
       "      <td>40</td>\n",
       "      <td>Cuba</td>\n",
       "      <td>&lt;=50K</td>\n",
       "    </tr>\n",
       "  </tbody>\n",
       "</table>\n",
       "</div>"
      ],
      "text/plain": [
       "   Age          Workclass  fnlwgt   Education  Education-Num  \\\n",
       "0   39          State-gov   77516   Bachelors             13   \n",
       "1   50   Self-emp-not-inc   83311   Bachelors             13   \n",
       "2   38            Private  215646     HS-grad              9   \n",
       "3   53            Private  234721        11th              7   \n",
       "4   28            Private  338409   Bachelors             13   \n",
       "\n",
       "         MartialStatus          Occupation    Relationship    Race      Sex  \\\n",
       "0        Never-married        Adm-clerical   Not-in-family   White     Male   \n",
       "1   Married-civ-spouse     Exec-managerial         Husband   White     Male   \n",
       "2             Divorced   Handlers-cleaners   Not-in-family   White     Male   \n",
       "3   Married-civ-spouse   Handlers-cleaners         Husband   Black     Male   \n",
       "4   Married-civ-spouse      Prof-specialty            Wife   Black   Female   \n",
       "\n",
       "   CapitalGain  CapitalLoss  Hoursperweek         Country  Target  \n",
       "0         2174            0            40   United-States   <=50K  \n",
       "1            0            0            13   United-States   <=50K  \n",
       "2            0            0            40   United-States   <=50K  \n",
       "3            0            0            40   United-States   <=50K  \n",
       "4            0            0            40            Cuba   <=50K  "
      ]
     },
     "execution_count": 3,
     "metadata": {},
     "output_type": "execute_result"
    }
   ],
   "source": [
    "data_train = pd.read_csv('adult.data', names = features)\n",
    "data_train.head()"
   ]
  },
  {
   "cell_type": "code",
   "execution_count": 4,
   "id": "607f50db",
   "metadata": {},
   "outputs": [
    {
     "data": {
      "text/html": [
       "<div>\n",
       "<style scoped>\n",
       "    .dataframe tbody tr th:only-of-type {\n",
       "        vertical-align: middle;\n",
       "    }\n",
       "\n",
       "    .dataframe tbody tr th {\n",
       "        vertical-align: top;\n",
       "    }\n",
       "\n",
       "    .dataframe thead th {\n",
       "        text-align: right;\n",
       "    }\n",
       "</style>\n",
       "<table border=\"1\" class=\"dataframe\">\n",
       "  <thead>\n",
       "    <tr style=\"text-align: right;\">\n",
       "      <th></th>\n",
       "      <th>Age</th>\n",
       "      <th>Workclass</th>\n",
       "      <th>fnlwgt</th>\n",
       "      <th>Education</th>\n",
       "      <th>Education-Num</th>\n",
       "      <th>MartialStatus</th>\n",
       "      <th>Occupation</th>\n",
       "      <th>Relationship</th>\n",
       "      <th>Race</th>\n",
       "      <th>Sex</th>\n",
       "      <th>CapitalGain</th>\n",
       "      <th>CapitalLoss</th>\n",
       "      <th>Hoursperweek</th>\n",
       "      <th>Country</th>\n",
       "      <th>Target</th>\n",
       "    </tr>\n",
       "  </thead>\n",
       "  <tbody>\n",
       "    <tr>\n",
       "      <th>0</th>\n",
       "      <td>|1x3 Cross validator</td>\n",
       "      <td>NaN</td>\n",
       "      <td>NaN</td>\n",
       "      <td>NaN</td>\n",
       "      <td>NaN</td>\n",
       "      <td>NaN</td>\n",
       "      <td>NaN</td>\n",
       "      <td>NaN</td>\n",
       "      <td>NaN</td>\n",
       "      <td>NaN</td>\n",
       "      <td>NaN</td>\n",
       "      <td>NaN</td>\n",
       "      <td>NaN</td>\n",
       "      <td>NaN</td>\n",
       "      <td>NaN</td>\n",
       "    </tr>\n",
       "    <tr>\n",
       "      <th>1</th>\n",
       "      <td>25</td>\n",
       "      <td>Private</td>\n",
       "      <td>226802.0</td>\n",
       "      <td>11th</td>\n",
       "      <td>7.0</td>\n",
       "      <td>Never-married</td>\n",
       "      <td>Machine-op-inspct</td>\n",
       "      <td>Own-child</td>\n",
       "      <td>Black</td>\n",
       "      <td>Male</td>\n",
       "      <td>0.0</td>\n",
       "      <td>0.0</td>\n",
       "      <td>40.0</td>\n",
       "      <td>United-States</td>\n",
       "      <td>&lt;=50K.</td>\n",
       "    </tr>\n",
       "    <tr>\n",
       "      <th>2</th>\n",
       "      <td>38</td>\n",
       "      <td>Private</td>\n",
       "      <td>89814.0</td>\n",
       "      <td>HS-grad</td>\n",
       "      <td>9.0</td>\n",
       "      <td>Married-civ-spouse</td>\n",
       "      <td>Farming-fishing</td>\n",
       "      <td>Husband</td>\n",
       "      <td>White</td>\n",
       "      <td>Male</td>\n",
       "      <td>0.0</td>\n",
       "      <td>0.0</td>\n",
       "      <td>50.0</td>\n",
       "      <td>United-States</td>\n",
       "      <td>&lt;=50K.</td>\n",
       "    </tr>\n",
       "    <tr>\n",
       "      <th>3</th>\n",
       "      <td>28</td>\n",
       "      <td>Local-gov</td>\n",
       "      <td>336951.0</td>\n",
       "      <td>Assoc-acdm</td>\n",
       "      <td>12.0</td>\n",
       "      <td>Married-civ-spouse</td>\n",
       "      <td>Protective-serv</td>\n",
       "      <td>Husband</td>\n",
       "      <td>White</td>\n",
       "      <td>Male</td>\n",
       "      <td>0.0</td>\n",
       "      <td>0.0</td>\n",
       "      <td>40.0</td>\n",
       "      <td>United-States</td>\n",
       "      <td>&gt;50K.</td>\n",
       "    </tr>\n",
       "    <tr>\n",
       "      <th>4</th>\n",
       "      <td>44</td>\n",
       "      <td>Private</td>\n",
       "      <td>160323.0</td>\n",
       "      <td>Some-college</td>\n",
       "      <td>10.0</td>\n",
       "      <td>Married-civ-spouse</td>\n",
       "      <td>Machine-op-inspct</td>\n",
       "      <td>Husband</td>\n",
       "      <td>Black</td>\n",
       "      <td>Male</td>\n",
       "      <td>7688.0</td>\n",
       "      <td>0.0</td>\n",
       "      <td>40.0</td>\n",
       "      <td>United-States</td>\n",
       "      <td>&gt;50K.</td>\n",
       "    </tr>\n",
       "  </tbody>\n",
       "</table>\n",
       "</div>"
      ],
      "text/plain": [
       "                    Age   Workclass    fnlwgt      Education  Education-Num  \\\n",
       "0  |1x3 Cross validator         NaN       NaN            NaN            NaN   \n",
       "1                    25     Private  226802.0           11th            7.0   \n",
       "2                    38     Private   89814.0        HS-grad            9.0   \n",
       "3                    28   Local-gov  336951.0     Assoc-acdm           12.0   \n",
       "4                    44     Private  160323.0   Some-college           10.0   \n",
       "\n",
       "         MartialStatus          Occupation Relationship    Race    Sex  \\\n",
       "0                  NaN                 NaN          NaN     NaN    NaN   \n",
       "1        Never-married   Machine-op-inspct    Own-child   Black   Male   \n",
       "2   Married-civ-spouse     Farming-fishing      Husband   White   Male   \n",
       "3   Married-civ-spouse     Protective-serv      Husband   White   Male   \n",
       "4   Married-civ-spouse   Machine-op-inspct      Husband   Black   Male   \n",
       "\n",
       "   CapitalGain  CapitalLoss  Hoursperweek         Country   Target  \n",
       "0          NaN          NaN           NaN             NaN      NaN  \n",
       "1          0.0          0.0          40.0   United-States   <=50K.  \n",
       "2          0.0          0.0          50.0   United-States   <=50K.  \n",
       "3          0.0          0.0          40.0   United-States    >50K.  \n",
       "4       7688.0          0.0          40.0   United-States    >50K.  "
      ]
     },
     "execution_count": 4,
     "metadata": {},
     "output_type": "execute_result"
    }
   ],
   "source": [
    "data_test = pd.read_csv('adult.test', names = features)\n",
    "data_test.head()"
   ]
  },
  {
   "cell_type": "markdown",
   "id": "0de9d66f",
   "metadata": {},
   "source": [
    "# Data Pre-Processing"
   ]
  },
  {
   "cell_type": "code",
   "execution_count": 5,
   "id": "5d73a630",
   "metadata": {},
   "outputs": [
    {
     "data": {
      "text/plain": [
       "(32561, 15)"
      ]
     },
     "execution_count": 5,
     "metadata": {},
     "output_type": "execute_result"
    }
   ],
   "source": [
    "data_train.shape"
   ]
  },
  {
   "cell_type": "code",
   "execution_count": 6,
   "id": "b2ee5489",
   "metadata": {},
   "outputs": [
    {
     "data": {
      "text/plain": [
       "(16282, 15)"
      ]
     },
     "execution_count": 6,
     "metadata": {},
     "output_type": "execute_result"
    }
   ],
   "source": [
    "data_test.shape"
   ]
  },
  {
   "cell_type": "code",
   "execution_count": 7,
   "id": "f3a0d5a5",
   "metadata": {},
   "outputs": [
    {
     "name": "stdout",
     "output_type": "stream",
     "text": [
      "<class 'pandas.core.frame.DataFrame'>\n",
      "RangeIndex: 32561 entries, 0 to 32560\n",
      "Data columns (total 15 columns):\n",
      " #   Column         Non-Null Count  Dtype \n",
      "---  ------         --------------  ----- \n",
      " 0   Age            32561 non-null  int64 \n",
      " 1   Workclass      32561 non-null  object\n",
      " 2   fnlwgt         32561 non-null  int64 \n",
      " 3   Education      32561 non-null  object\n",
      " 4   Education-Num  32561 non-null  int64 \n",
      " 5   MartialStatus  32561 non-null  object\n",
      " 6   Occupation     32561 non-null  object\n",
      " 7   Relationship   32561 non-null  object\n",
      " 8   Race           32561 non-null  object\n",
      " 9   Sex            32561 non-null  object\n",
      " 10  CapitalGain    32561 non-null  int64 \n",
      " 11  CapitalLoss    32561 non-null  int64 \n",
      " 12  Hoursperweek   32561 non-null  int64 \n",
      " 13  Country        32561 non-null  object\n",
      " 14  Target         32561 non-null  object\n",
      "dtypes: int64(6), object(9)\n",
      "memory usage: 3.7+ MB\n"
     ]
    }
   ],
   "source": [
    "data_train.info()"
   ]
  },
  {
   "cell_type": "code",
   "execution_count": 8,
   "id": "b0d24e05",
   "metadata": {},
   "outputs": [
    {
     "name": "stdout",
     "output_type": "stream",
     "text": [
      "<class 'pandas.core.frame.DataFrame'>\n",
      "RangeIndex: 16282 entries, 0 to 16281\n",
      "Data columns (total 15 columns):\n",
      " #   Column         Non-Null Count  Dtype  \n",
      "---  ------         --------------  -----  \n",
      " 0   Age            16282 non-null  object \n",
      " 1   Workclass      16281 non-null  object \n",
      " 2   fnlwgt         16281 non-null  float64\n",
      " 3   Education      16281 non-null  object \n",
      " 4   Education-Num  16281 non-null  float64\n",
      " 5   MartialStatus  16281 non-null  object \n",
      " 6   Occupation     16281 non-null  object \n",
      " 7   Relationship   16281 non-null  object \n",
      " 8   Race           16281 non-null  object \n",
      " 9   Sex            16281 non-null  object \n",
      " 10  CapitalGain    16281 non-null  float64\n",
      " 11  CapitalLoss    16281 non-null  float64\n",
      " 12  Hoursperweek   16281 non-null  float64\n",
      " 13  Country        16281 non-null  object \n",
      " 14  Target         16281 non-null  object \n",
      "dtypes: float64(5), object(10)\n",
      "memory usage: 1.9+ MB\n"
     ]
    }
   ],
   "source": [
    "data_test.info()"
   ]
  },
  {
   "cell_type": "code",
   "execution_count": 9,
   "id": "acf5a7ba",
   "metadata": {},
   "outputs": [
    {
     "data": {
      "text/plain": [
       "Age              0\n",
       "Workclass        0\n",
       "fnlwgt           0\n",
       "Education        0\n",
       "Education-Num    0\n",
       "MartialStatus    0\n",
       "Occupation       0\n",
       "Relationship     0\n",
       "Race             0\n",
       "Sex              0\n",
       "CapitalGain      0\n",
       "CapitalLoss      0\n",
       "Hoursperweek     0\n",
       "Country          0\n",
       "Target           0\n",
       "dtype: int64"
      ]
     },
     "execution_count": 9,
     "metadata": {},
     "output_type": "execute_result"
    }
   ],
   "source": [
    "data_train.isnull().sum()"
   ]
  },
  {
   "cell_type": "code",
   "execution_count": 10,
   "id": "b82c7e29",
   "metadata": {},
   "outputs": [
    {
     "data": {
      "text/plain": [
       "Age              0\n",
       "Workclass        1\n",
       "fnlwgt           1\n",
       "Education        1\n",
       "Education-Num    1\n",
       "MartialStatus    1\n",
       "Occupation       1\n",
       "Relationship     1\n",
       "Race             1\n",
       "Sex              1\n",
       "CapitalGain      1\n",
       "CapitalLoss      1\n",
       "Hoursperweek     1\n",
       "Country          1\n",
       "Target           1\n",
       "dtype: int64"
      ]
     },
     "execution_count": 10,
     "metadata": {},
     "output_type": "execute_result"
    }
   ],
   "source": [
    "data_test.isnull().sum()"
   ]
  },
  {
   "cell_type": "markdown",
   "id": "35548d46",
   "metadata": {},
   "source": [
    "# Filling the NAN Values"
   ]
  },
  {
   "cell_type": "code",
   "execution_count": 11,
   "id": "b69d5a6f",
   "metadata": {},
   "outputs": [],
   "source": [
    "data_test['Workclass'].fillna('Workclass', inplace = True)"
   ]
  },
  {
   "cell_type": "code",
   "execution_count": 12,
   "id": "30e89a3d",
   "metadata": {},
   "outputs": [],
   "source": [
    "data_test['fnlwgt'].fillna('fnlwgt', inplace = True)"
   ]
  },
  {
   "cell_type": "code",
   "execution_count": 13,
   "id": "fb3ceb01",
   "metadata": {},
   "outputs": [],
   "source": [
    "data_test['Education'].fillna('Education', inplace = True)"
   ]
  },
  {
   "cell_type": "code",
   "execution_count": 14,
   "id": "4a796b44",
   "metadata": {},
   "outputs": [],
   "source": [
    "data_test['Education-Num'].fillna('Education-Num', inplace = True)"
   ]
  },
  {
   "cell_type": "code",
   "execution_count": 15,
   "id": "f11c69e3",
   "metadata": {},
   "outputs": [],
   "source": [
    "data_test['MartialStatus'].fillna('MartialStatus', inplace = True)"
   ]
  },
  {
   "cell_type": "code",
   "execution_count": 16,
   "id": "c69115a9",
   "metadata": {},
   "outputs": [],
   "source": [
    "data_test['Occupation'].fillna('Occupation', inplace = True)"
   ]
  },
  {
   "cell_type": "code",
   "execution_count": 17,
   "id": "6df311b8",
   "metadata": {},
   "outputs": [],
   "source": [
    "data_test['Relationship'].fillna('Relationship', inplace = True)"
   ]
  },
  {
   "cell_type": "code",
   "execution_count": 18,
   "id": "e0ea3cf9",
   "metadata": {},
   "outputs": [],
   "source": [
    "data_test['Race'].fillna('Race', inplace = True)"
   ]
  },
  {
   "cell_type": "code",
   "execution_count": 19,
   "id": "5b6bcc19",
   "metadata": {},
   "outputs": [],
   "source": [
    "data_test['Sex'].fillna('Sex', inplace = True)"
   ]
  },
  {
   "cell_type": "code",
   "execution_count": 20,
   "id": "b835dab4",
   "metadata": {},
   "outputs": [],
   "source": [
    "data_test['CapitalGain'].fillna('CapitalGain', inplace = True)"
   ]
  },
  {
   "cell_type": "code",
   "execution_count": 21,
   "id": "8f90298b",
   "metadata": {},
   "outputs": [],
   "source": [
    "data_test['CapitalLoss'].fillna('CapitalLoss', inplace = True)"
   ]
  },
  {
   "cell_type": "code",
   "execution_count": 22,
   "id": "bd975bef",
   "metadata": {},
   "outputs": [],
   "source": [
    "data_test['Hoursperweek'].fillna('Hoursperweek', inplace = True)"
   ]
  },
  {
   "cell_type": "code",
   "execution_count": 23,
   "id": "99d588db",
   "metadata": {},
   "outputs": [],
   "source": [
    "data_test['Country'].fillna('Country', inplace = True)"
   ]
  },
  {
   "cell_type": "code",
   "execution_count": 24,
   "id": "3effff90",
   "metadata": {},
   "outputs": [],
   "source": [
    "data_test['Target'].fillna('Target', inplace = True)"
   ]
  },
  {
   "cell_type": "markdown",
   "id": "310fcca6",
   "metadata": {},
   "source": [
    "# Label Encoder "
   ]
  },
  {
   "cell_type": "code",
   "execution_count": 25,
   "id": "9b94560d",
   "metadata": {},
   "outputs": [],
   "source": [
    "from sklearn.preprocessing import LabelEncoder"
   ]
  },
  {
   "cell_type": "code",
   "execution_count": 26,
   "id": "7b6399fc",
   "metadata": {},
   "outputs": [],
   "source": [
    "le = LabelEncoder()"
   ]
  },
  {
   "cell_type": "markdown",
   "id": "a52b4fbb",
   "metadata": {},
   "source": [
    "# For Train Data"
   ]
  },
  {
   "cell_type": "code",
   "execution_count": 27,
   "id": "d711031c",
   "metadata": {},
   "outputs": [],
   "source": [
    "label = data_train.select_dtypes(include = 'object').columns\n",
    "\n",
    "for i in label:\n",
    "    \n",
    "    data_train[i] = le.fit_transform(data_train[i].astype(str))"
   ]
  },
  {
   "cell_type": "code",
   "execution_count": 28,
   "id": "f1875e84",
   "metadata": {},
   "outputs": [
    {
     "name": "stdout",
     "output_type": "stream",
     "text": [
      "<class 'pandas.core.frame.DataFrame'>\n",
      "RangeIndex: 32561 entries, 0 to 32560\n",
      "Data columns (total 15 columns):\n",
      " #   Column         Non-Null Count  Dtype\n",
      "---  ------         --------------  -----\n",
      " 0   Age            32561 non-null  int64\n",
      " 1   Workclass      32561 non-null  int32\n",
      " 2   fnlwgt         32561 non-null  int64\n",
      " 3   Education      32561 non-null  int32\n",
      " 4   Education-Num  32561 non-null  int64\n",
      " 5   MartialStatus  32561 non-null  int32\n",
      " 6   Occupation     32561 non-null  int32\n",
      " 7   Relationship   32561 non-null  int32\n",
      " 8   Race           32561 non-null  int32\n",
      " 9   Sex            32561 non-null  int32\n",
      " 10  CapitalGain    32561 non-null  int64\n",
      " 11  CapitalLoss    32561 non-null  int64\n",
      " 12  Hoursperweek   32561 non-null  int64\n",
      " 13  Country        32561 non-null  int32\n",
      " 14  Target         32561 non-null  int32\n",
      "dtypes: int32(9), int64(6)\n",
      "memory usage: 2.6 MB\n"
     ]
    }
   ],
   "source": [
    "data_train.info()"
   ]
  },
  {
   "cell_type": "code",
   "execution_count": 29,
   "id": "493f4948",
   "metadata": {},
   "outputs": [
    {
     "data": {
      "text/plain": [
       "Age              0\n",
       "Workclass        0\n",
       "fnlwgt           0\n",
       "Education        0\n",
       "Education-Num    0\n",
       "MartialStatus    0\n",
       "Occupation       0\n",
       "Relationship     0\n",
       "Race             0\n",
       "Sex              0\n",
       "CapitalGain      0\n",
       "CapitalLoss      0\n",
       "Hoursperweek     0\n",
       "Country          0\n",
       "Target           0\n",
       "dtype: int64"
      ]
     },
     "execution_count": 29,
     "metadata": {},
     "output_type": "execute_result"
    }
   ],
   "source": [
    "data_train.isnull().sum()"
   ]
  },
  {
   "cell_type": "markdown",
   "id": "4af538fd",
   "metadata": {},
   "source": [
    "# For Test Data"
   ]
  },
  {
   "cell_type": "code",
   "execution_count": 30,
   "id": "1d0b5c4b",
   "metadata": {},
   "outputs": [],
   "source": [
    "label1 = data_test.select_dtypes(include = 'object').columns\n",
    "\n",
    "for i in label1:\n",
    "    \n",
    "    data_test[i] = le.fit_transform(data_test[i].astype(str))"
   ]
  },
  {
   "cell_type": "code",
   "execution_count": 31,
   "id": "399e3283",
   "metadata": {},
   "outputs": [
    {
     "name": "stdout",
     "output_type": "stream",
     "text": [
      "<class 'pandas.core.frame.DataFrame'>\n",
      "RangeIndex: 16282 entries, 0 to 16281\n",
      "Data columns (total 15 columns):\n",
      " #   Column         Non-Null Count  Dtype\n",
      "---  ------         --------------  -----\n",
      " 0   Age            16282 non-null  int32\n",
      " 1   Workclass      16282 non-null  int32\n",
      " 2   fnlwgt         16282 non-null  int32\n",
      " 3   Education      16282 non-null  int32\n",
      " 4   Education-Num  16282 non-null  int32\n",
      " 5   MartialStatus  16282 non-null  int32\n",
      " 6   Occupation     16282 non-null  int32\n",
      " 7   Relationship   16282 non-null  int32\n",
      " 8   Race           16282 non-null  int32\n",
      " 9   Sex            16282 non-null  int32\n",
      " 10  CapitalGain    16282 non-null  int32\n",
      " 11  CapitalLoss    16282 non-null  int32\n",
      " 12  Hoursperweek   16282 non-null  int32\n",
      " 13  Country        16282 non-null  int32\n",
      " 14  Target         16282 non-null  int32\n",
      "dtypes: int32(15)\n",
      "memory usage: 954.1 KB\n"
     ]
    }
   ],
   "source": [
    "data_test.info()"
   ]
  },
  {
   "cell_type": "code",
   "execution_count": 32,
   "id": "841ad509",
   "metadata": {},
   "outputs": [
    {
     "data": {
      "text/plain": [
       "Age              0\n",
       "Workclass        0\n",
       "fnlwgt           0\n",
       "Education        0\n",
       "Education-Num    0\n",
       "MartialStatus    0\n",
       "Occupation       0\n",
       "Relationship     0\n",
       "Race             0\n",
       "Sex              0\n",
       "CapitalGain      0\n",
       "CapitalLoss      0\n",
       "Hoursperweek     0\n",
       "Country          0\n",
       "Target           0\n",
       "dtype: int64"
      ]
     },
     "execution_count": 32,
     "metadata": {},
     "output_type": "execute_result"
    }
   ],
   "source": [
    "data_test.isnull().sum()"
   ]
  },
  {
   "cell_type": "markdown",
   "id": "274cf90d",
   "metadata": {},
   "source": [
    "# Seperation of X and Y Lables of Train Data"
   ]
  },
  {
   "cell_type": "code",
   "execution_count": 34,
   "id": "be08f17f",
   "metadata": {},
   "outputs": [],
   "source": [
    "X_train = data_train.iloc[:,0:14]\n",
    "Y_train = data_train.iloc[:,-1]"
   ]
  },
  {
   "cell_type": "markdown",
   "id": "036e2036",
   "metadata": {},
   "source": [
    "# Seperation of X and Y Lables of Test Data"
   ]
  },
  {
   "cell_type": "code",
   "execution_count": 35,
   "id": "667f4a69",
   "metadata": {},
   "outputs": [],
   "source": [
    "X_test = data_test.iloc[:,0:14]\n",
    "Y_test = data_test.iloc[:,-1]"
   ]
  },
  {
   "cell_type": "markdown",
   "id": "a876bf81",
   "metadata": {},
   "source": [
    "# Naive Bayes Model"
   ]
  },
  {
   "cell_type": "code",
   "execution_count": 36,
   "id": "e203e71f",
   "metadata": {},
   "outputs": [],
   "source": [
    "from sklearn import naive_bayes"
   ]
  },
  {
   "cell_type": "code",
   "execution_count": 37,
   "id": "511dfcb4",
   "metadata": {},
   "outputs": [],
   "source": [
    "Naive_Bayes = naive_bayes.MultinomialNB()"
   ]
  },
  {
   "cell_type": "code",
   "execution_count": 38,
   "id": "a3f013fd",
   "metadata": {},
   "outputs": [],
   "source": [
    "from sklearn.metrics import accuracy_score"
   ]
  },
  {
   "cell_type": "code",
   "execution_count": 39,
   "id": "6f62b0b9",
   "metadata": {},
   "outputs": [
    {
     "name": "stdout",
     "output_type": "stream",
     "text": [
      "Accuracy of Naive Bayes Model: 76.51394177619457\n"
     ]
    }
   ],
   "source": [
    "Naive_Bayes.fit(X_train, Y_train)\n",
    "Y_pred = Naive_Bayes.predict(X_test)\n",
    "Accuracy_of_Naive_Bayes = Naive_Bayes.score(X_test, Y_test)*100\n",
    "print (\"Accuracy of Naive Bayes Model:\", Accuracy_of_Naive_Bayes)"
   ]
  },
  {
   "cell_type": "code",
   "execution_count": 40,
   "id": "1be6b266",
   "metadata": {},
   "outputs": [],
   "source": [
    "from sklearn.metrics import recall_score"
   ]
  },
  {
   "cell_type": "code",
   "execution_count": 41,
   "id": "e60a6de7",
   "metadata": {},
   "outputs": [
    {
     "name": "stdout",
     "output_type": "stream",
     "text": [
      "Recall Score of Naive Bayes Model: 38.50139289045627\n"
     ]
    }
   ],
   "source": [
    "Recall_Score_of_Naive_Bayes = recall_score(Y_test, Y_pred, average='macro') * 100\n",
    "print (\"Recall Score of Naive Bayes Model:\", Recall_Score_of_Naive_Bayes)"
   ]
  },
  {
   "cell_type": "code",
   "execution_count": 42,
   "id": "cfaf3ada",
   "metadata": {},
   "outputs": [],
   "source": [
    "from sklearn.metrics import precision_score"
   ]
  },
  {
   "cell_type": "code",
   "execution_count": 43,
   "id": "20f4b79d",
   "metadata": {},
   "outputs": [
    {
     "name": "stdout",
     "output_type": "stream",
     "text": [
      "Precision Score of Naive Bayes Model: 43.38346601563767\n"
     ]
    },
    {
     "name": "stderr",
     "output_type": "stream",
     "text": [
      "C:\\Users\\hp\\anaconda3\\lib\\site-packages\\sklearn\\metrics\\_classification.py:1272: UndefinedMetricWarning: Precision is ill-defined and being set to 0.0 in labels with no predicted samples. Use `zero_division` parameter to control this behavior.\n",
      "  _warn_prf(average, modifier, msg_start, len(result))\n"
     ]
    }
   ],
   "source": [
    "Precision_Score_of_Naive_Bayes = precision_score(Y_test, Y_pred, average = 'macro') * 100\n",
    "print (\"Precision Score of Naive Bayes Model:\", Precision_Score_of_Naive_Bayes)"
   ]
  },
  {
   "cell_type": "code",
   "execution_count": 44,
   "id": "9ae164b3",
   "metadata": {},
   "outputs": [],
   "source": [
    "from sklearn.metrics import f1_score"
   ]
  },
  {
   "cell_type": "code",
   "execution_count": 45,
   "id": "8eb97869",
   "metadata": {},
   "outputs": [
    {
     "name": "stdout",
     "output_type": "stream",
     "text": [
      "F1 Score of Naive Bayes Model: 38.9026449868262\n"
     ]
    }
   ],
   "source": [
    "F1_Score_of_Naive_Bayes = f1_score(Y_test, Y_pred, average='macro') * 100\n",
    "print (\"F1 Score of Naive Bayes Model:\", F1_Score_of_Naive_Bayes)"
   ]
  },
  {
   "cell_type": "markdown",
   "id": "0c3971be",
   "metadata": {},
   "source": [
    "# KNN Model"
   ]
  },
  {
   "cell_type": "code",
   "execution_count": 46,
   "id": "93737469",
   "metadata": {},
   "outputs": [],
   "source": [
    "from sklearn.neighbors import KNeighborsClassifier"
   ]
  },
  {
   "cell_type": "code",
   "execution_count": 47,
   "id": "86e392d3",
   "metadata": {},
   "outputs": [],
   "source": [
    "KNN = KNeighborsClassifier(n_neighbors = 5)"
   ]
  },
  {
   "cell_type": "code",
   "execution_count": 48,
   "id": "8939132d",
   "metadata": {},
   "outputs": [],
   "source": [
    "from sklearn.metrics import accuracy_score"
   ]
  },
  {
   "cell_type": "code",
   "execution_count": 49,
   "id": "a9e89c6e",
   "metadata": {},
   "outputs": [
    {
     "name": "stdout",
     "output_type": "stream",
     "text": [
      "Accuracy of KNN Model: 76.37268148876059\n"
     ]
    }
   ],
   "source": [
    "KNN.fit(X_train, Y_train)\n",
    "Y_pred = KNN.predict(X_test)\n",
    "Accuracy_of_KNN = (accuracy_score(Y_pred, Y_test)) * 100\n",
    "print (\"Accuracy of KNN Model:\", Accuracy_of_KNN)"
   ]
  },
  {
   "cell_type": "code",
   "execution_count": 50,
   "id": "37f1376e",
   "metadata": {},
   "outputs": [],
   "source": [
    "from sklearn.metrics import recall_score"
   ]
  },
  {
   "cell_type": "code",
   "execution_count": 51,
   "id": "c2823918",
   "metadata": {},
   "outputs": [
    {
     "name": "stdout",
     "output_type": "stream",
     "text": [
      "Recall Score of KNN Model: 33.33333333333333\n"
     ]
    }
   ],
   "source": [
    "Recall_Score_of_KNN = recall_score(Y_test, Y_pred, average='macro')*100\n",
    "print (\"Recall Score of KNN Model:\", Recall_Score_of_KNN)"
   ]
  },
  {
   "cell_type": "code",
   "execution_count": 52,
   "id": "94fa6912",
   "metadata": {},
   "outputs": [],
   "source": [
    "from sklearn.metrics import precision_score"
   ]
  },
  {
   "cell_type": "code",
   "execution_count": 53,
   "id": "9c6f899f",
   "metadata": {},
   "outputs": [
    {
     "name": "stdout",
     "output_type": "stream",
     "text": [
      "Precision Score of KNN Model: 25.457560496253535\n"
     ]
    },
    {
     "name": "stderr",
     "output_type": "stream",
     "text": [
      "C:\\Users\\hp\\anaconda3\\lib\\site-packages\\sklearn\\metrics\\_classification.py:1272: UndefinedMetricWarning: Precision is ill-defined and being set to 0.0 in labels with no predicted samples. Use `zero_division` parameter to control this behavior.\n",
      "  _warn_prf(average, modifier, msg_start, len(result))\n"
     ]
    }
   ],
   "source": [
    "Precision_Score_of_KNN = precision_score(Y_test, Y_pred, average = 'macro') * 100\n",
    "print (\"Precision Score of KNN Model:\", Precision_Score_of_KNN)"
   ]
  },
  {
   "cell_type": "code",
   "execution_count": 54,
   "id": "79272552",
   "metadata": {},
   "outputs": [],
   "source": [
    "from sklearn.metrics import f1_score"
   ]
  },
  {
   "cell_type": "code",
   "execution_count": 55,
   "id": "f54ee03a",
   "metadata": {},
   "outputs": [
    {
     "name": "stdout",
     "output_type": "stream",
     "text": [
      "F1 Score of KNN Model: 28.867917958003968\n"
     ]
    }
   ],
   "source": [
    "F1_Score_of_KNN = f1_score(Y_test, Y_pred, average='macro') * 100\n",
    "print (\"F1 Score of KNN Model:\", F1_Score_of_KNN)"
   ]
  },
  {
   "cell_type": "markdown",
   "id": "fe0e39b9",
   "metadata": {},
   "source": [
    "# Comparsion of Both KNN And Naive Bayes Model"
   ]
  },
  {
   "cell_type": "code",
   "execution_count": 56,
   "id": "a26b145c",
   "metadata": {},
   "outputs": [
    {
     "name": "stdout",
     "output_type": "stream",
     "text": [
      "Accuray of KNN:  76.37268148876059\n",
      "Accuray of Naive Bayes:  76.51394177619457\n"
     ]
    }
   ],
   "source": [
    "print(\"Accuray of KNN: \", Accuracy_of_KNN)\n",
    "print(\"Accuray of Naive Bayes: \", Accuracy_of_Naive_Bayes)"
   ]
  },
  {
   "cell_type": "code",
   "execution_count": 57,
   "id": "eb746712",
   "metadata": {},
   "outputs": [
    {
     "data": {
      "text/plain": [
       "[76.37268148876059, 76.51394177619457]"
      ]
     },
     "execution_count": 57,
     "metadata": {},
     "output_type": "execute_result"
    }
   ],
   "source": [
    "x = ['KNN','Naive Bayes']\n",
    "y = [Accuracy_of_KNN, Accuracy_of_Naive_Bayes]\n",
    "y"
   ]
  },
  {
   "cell_type": "code",
   "execution_count": 58,
   "id": "13c84c7f",
   "metadata": {},
   "outputs": [
    {
     "data": {
      "image/png": "[encoded data removed]",
      "text/plain": [
       "<Figure size 576x576 with 1 Axes>"
      ]
     },
     "metadata": {
      "needs_background": "light"
     },
     "output_type": "display_data"
    }
   ],
   "source": [
    "plt.figure(figsize = (8,8))\n",
    "plt.bar(x,y, color = ['yellow', 'skyblue'])\n",
    "plt.xlabel('Models')\n",
    "plt.ylabel(\"Accuracy\")\n",
    "plt.title(\"Accuracy of KNN Model and Naive Bayes\")\n",
    "plt.show()"
   ]
  },
  {
   "cell_type": "code",
   "execution_count": 59,
   "id": "de7b7dde",
   "metadata": {},
   "outputs": [
    {
     "name": "stdout",
     "output_type": "stream",
     "text": [
      "Recall Score of Naive Bayes Model: 38.50139289045627\n",
      "Recall Score of Naive Bayes Model: 33.33333333333333\n"
     ]
    }
   ],
   "source": [
    "print (\"Recall Score of Naive Bayes Model:\", Recall_Score_of_Naive_Bayes)\n",
    "print (\"Recall Score of Naive Bayes Model:\", Recall_Score_of_KNN)"
   ]
  },
  {
   "cell_type": "code",
   "execution_count": 60,
   "id": "d40f56b8",
   "metadata": {},
   "outputs": [
    {
     "data": {
      "text/plain": [
       "[33.33333333333333, 38.50139289045627]"
      ]
     },
     "execution_count": 60,
     "metadata": {},
     "output_type": "execute_result"
    }
   ],
   "source": [
    "x = ['KNN','Naive Bayes']\n",
    "y = [Recall_Score_of_KNN, Recall_Score_of_Naive_Bayes]\n",
    "y"
   ]
  },
  {
   "cell_type": "code",
   "execution_count": 61,
   "id": "0cc37597",
   "metadata": {},
   "outputs": [
    {
     "data": {
      "image/png": "[encoded data removed]",
      "text/plain": [
       "<Figure size 576x576 with 1 Axes>"
      ]
     },
     "metadata": {
      "needs_background": "light"
     },
     "output_type": "display_data"
    }
   ],
   "source": [
    "plt.figure(figsize = (8,8))\n",
    "plt.bar(x,y, color = ['red', 'orange'])\n",
    "plt.xlabel('Models')\n",
    "plt.ylabel(\"Recall Score\")\n",
    "plt.title(\"Recall Score of KNN Model and Naive Bayes\")\n",
    "plt.show()"
   ]
  },
  {
   "cell_type": "code",
   "execution_count": 62,
   "id": "6e5627b8",
   "metadata": {},
   "outputs": [
    {
     "name": "stdout",
     "output_type": "stream",
     "text": [
      "Precision Score of Naive Bayes Model: 43.38346601563767\n",
      "Precision Score of Naive Bayes Model: 25.457560496253535\n"
     ]
    }
   ],
   "source": [
    "print (\"Precision Score of Naive Bayes Model:\", Precision_Score_of_Naive_Bayes)\n",
    "print (\"Precision Score of Naive Bayes Model:\", Precision_Score_of_KNN)"
   ]
  },
  {
   "cell_type": "code",
   "execution_count": 63,
   "id": "242c40d0",
   "metadata": {},
   "outputs": [
    {
     "data": {
      "text/plain": [
       "[25.457560496253535, 43.38346601563767]"
      ]
     },
     "execution_count": 63,
     "metadata": {},
     "output_type": "execute_result"
    }
   ],
   "source": [
    "x = ['KNN','Naive Bayes']\n",
    "y = [Precision_Score_of_KNN, Precision_Score_of_Naive_Bayes]\n",
    "y"
   ]
  },
  {
   "cell_type": "code",
   "execution_count": 64,
   "id": "d762c2af",
   "metadata": {},
   "outputs": [
    {
     "data": {
      "image/png": "[encoded data removed]",
      "text/plain": [
       "<Figure size 576x576 with 1 Axes>"
      ]
     },
     "metadata": {
      "needs_background": "light"
     },
     "output_type": "display_data"
    }
   ],
   "source": [
    "plt.figure(figsize = (8,8))\n",
    "plt.bar(x,y, color = ['green', 'purple'])\n",
    "plt.xlabel('Models')\n",
    "plt.ylabel(\"Precision Score\")\n",
    "plt.title(\"Precision Score of KNN Model and Naive Bayes\")\n",
    "plt.show()"
   ]
  },
  {
   "cell_type": "code",
   "execution_count": 65,
   "id": "08068fbe",
   "metadata": {},
   "outputs": [
    {
     "name": "stdout",
     "output_type": "stream",
     "text": [
      "F1 Score of Naive Bayes Model: 38.9026449868262\n",
      "F1 Score of Naive Bayes Model: 28.867917958003968\n"
     ]
    }
   ],
   "source": [
    "print (\"F1 Score of Naive Bayes Model:\", F1_Score_of_Naive_Bayes)\n",
    "print (\"F1 Score of Naive Bayes Model:\", F1_Score_of_KNN)"
   ]
  },
  {
   "cell_type": "code",
   "execution_count": 66,
   "id": "0aba5c50",
   "metadata": {},
   "outputs": [
    {
     "data": {
      "text/plain": [
       "[28.867917958003968, 38.9026449868262]"
      ]
     },
     "execution_count": 66,
     "metadata": {},
     "output_type": "execute_result"
    }
   ],
   "source": [
    "x = ['KNN','Naive Bayes']\n",
    "y = [F1_Score_of_KNN, F1_Score_of_Naive_Bayes]\n",
    "y"
   ]
  },
  {
   "cell_type": "code",
   "execution_count": 67,
   "id": "a15371bc",
   "metadata": {},
   "outputs": [
    {
     "data": {
      "image/png": "[encoded data removed]",
      "text/plain": [
       "<Figure size 576x576 with 1 Axes>"
      ]
     },
     "metadata": {
      "needs_background": "light"
     },
     "output_type": "display_data"
    }
   ],
   "source": [
    "plt.figure(figsize = (8,8))\n",
    "plt.bar(x,y, color = ['grey', 'blue'])\n",
    "plt.xlabel('Models')\n",
    "plt.ylabel(\"F1 Score\")\n",
    "plt.title(\"F1 Score of KNN Model and Naive Bayes\")\n",
    "plt.show()"
   ]
  },
  {
   "cell_type": "code",
   "execution_count": null,
   "id": "dd1b2f32",
   "metadata": {},
   "outputs": [],
   "source": []
  }
 ],
 "metadata": {
  "kernelspec": {
   "display_name": "Python 3",
   "language": "python",
   "name": "python3"
  },
  "language_info": {
   "codemirror_mode": {
    "name": "ipython",
    "version": 3
   },
   "file_extension": ".py",
   "mimetype": "text/x-python",
   "name": "python",
   "nbconvert_exporter": "python",
   "pygments_lexer": "ipython3",
   "version": "3.8.8"
  }
 },
 "nbformat": 4,
 "nbformat_minor": 5
}
